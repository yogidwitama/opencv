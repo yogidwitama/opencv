{
 "cells": [
  {
   "cell_type": "code",
   "execution_count": 18,
   "metadata": {},
   "outputs": [
    {
     "data": {
      "text/plain": [
       "-1"
      ]
     },
     "execution_count": 18,
     "metadata": {},
     "output_type": "execute_result"
    }
   ],
   "source": [
    "import os\n",
    "import cv2\n",
    "\n",
    "img=cv2.imread(os.path.join('.', 'data','31BeltYkeBL.jpg'))\n",
    "\n",
    "# line\n",
    "cv2.line(img,(100,150), (300,450), (0,255,0),3)\n",
    "\n",
    "# rectangle\n",
    "cv2.rectangle(img,(200,350),(150,300), (0,0,255),-1)\n",
    "\n",
    "# circle\n",
    "cv2.circle(img,(100,100),90,(255,0,0),2)\n",
    "\n",
    "# text\n",
    "cv2.putText(img,\"Ei yo\",(200,250), cv2.FONT_HERSHEY_SIMPLEX,2,(255,255,0),2)\n",
    "\n",
    "cv2.imshow('img', img)\n",
    "cv2.waitKey(0)\n",
    "\n"
   ]
  }
 ],
 "metadata": {
  "kernelspec": {
   "display_name": "det2torch2",
   "language": "python",
   "name": "python3"
  },
  "language_info": {
   "codemirror_mode": {
    "name": "ipython",
    "version": 3
   },
   "file_extension": ".py",
   "mimetype": "text/x-python",
   "name": "python",
   "nbconvert_exporter": "python",
   "pygments_lexer": "ipython3",
   "version": "3.11.0"
  }
 },
 "nbformat": 4,
 "nbformat_minor": 2
}
