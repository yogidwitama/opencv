{
 "cells": [
  {
   "cell_type": "markdown",
   "metadata": {},
   "source": [
    "## Display Image using open CV"
   ]
  },
  {
   "cell_type": "code",
   "execution_count": 3,
   "metadata": {},
   "outputs": [],
   "source": [
    "import os\n",
    "import cv2\n",
    "\n",
    "image_path= os.path.join('.', 'data','humming bird.jpeg')\n",
    "\n",
    "img= cv2.imread(image_path)\n",
    "\n",
    "cv2.imshow('This title', img )\n",
    "cv2.waitKey(5000) #time to close image\n",
    "cv2.destroyAllWindows()"
   ]
  },
  {
   "cell_type": "code",
   "execution_count": null,
   "metadata": {},
   "outputs": [],
   "source": [
    "\n",
    "# write image\n",
    "cv2.imwrite(os.path.join('.', 'data', 'humming bird.jpeg'), img)"
   ]
  },
  {
   "cell_type": "markdown",
   "metadata": {},
   "source": [
    "## Display Video using open CV"
   ]
  },
  {
   "cell_type": "code",
   "execution_count": 1,
   "metadata": {},
   "outputs": [],
   "source": [
    "import cv2\n",
    "import os\n",
    "\n",
    "video_path= os.path.join('.', 'data', 'Monkey.mp4')\n",
    "\n",
    "video=cv2.VideoCapture(video_path)\n",
    "\n",
    "ret=True\n",
    "while ret:\n",
    "   ret, frame= video.read()\n",
    "   if ret:\n",
    "    cv2.imshow('this title', frame)\n",
    "    cv2.waitKey(40)\n",
    "\n",
    "video.release()\n",
    "cv2.destroyAllWindows()"
   ]
  },
  {
   "cell_type": "markdown",
   "metadata": {},
   "source": [
    "## Display using Webcam"
   ]
  },
  {
   "cell_type": "code",
   "execution_count": 18,
   "metadata": {},
   "outputs": [],
   "source": [
    "import cv2\n",
    "\n",
    "webcam=cv2.VideoCapture(0)\n",
    "\n",
    "while True:\n",
    "    ret, frame=webcam.read()\n",
    "    \n",
    "    cv2.imshow(\"This title\", frame)\n",
    "    \n",
    "    if cv2.waitKey(40) &  0xFF == ord('q'):\n",
    "        break\n",
    "\n",
    "webcam.release()\n",
    "cv2.destroyAllWindows()"
   ]
  },
  {
   "cell_type": "code",
   "execution_count": 22,
   "metadata": {},
   "outputs": [],
   "source": [
    "import cv2\n",
    "\n",
    "webcamera= cv2.VideoCapture(0)\n",
    "\n",
    "while True:\n",
    "    ret, frame= webcamera.read()\n",
    "    \n",
    "    cv2.imshow('hi', frame)\n",
    "    \n",
    "    if cv2.waitKey(40) & 0xFF== ord('q'):\n",
    "        break\n",
    "\n",
    "webcamera.release()\n",
    "cv2.destroyAllWindows()"
   ]
  }
 ],
 "metadata": {
  "kernelspec": {
   "display_name": "det2torch2",
   "language": "python",
   "name": "python3"
  },
  "language_info": {
   "codemirror_mode": {
    "name": "ipython",
    "version": 3
   },
   "file_extension": ".py",
   "mimetype": "text/x-python",
   "name": "python",
   "nbconvert_exporter": "python",
   "pygments_lexer": "ipython3",
   "version": "3.11.0"
  }
 },
 "nbformat": 4,
 "nbformat_minor": 2
}
