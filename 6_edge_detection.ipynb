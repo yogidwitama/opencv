{
 "cells": [
  {
   "cell_type": "code",
   "execution_count": 11,
   "metadata": {},
   "outputs": [
    {
     "data": {
      "text/plain": [
       "-1"
      ]
     },
     "execution_count": 11,
     "metadata": {},
     "output_type": "execute_result"
    }
   ],
   "source": [
    "import cv2\n",
    "import os\n",
    "import numpy as np\n",
    "\n",
    "img= cv2.imread(os.path.join('.','data', 'UNO.jpg'))\n",
    "img_edge =cv2.Canny(img,50,300)\n",
    "img_edge_d=cv2.dilate(img_edge, np.ones((5,5),dtype=np.int8))\n",
    "img_edge_e= cv2.erode(img_edge_d,np.ones((3,3), dtype=np.int8))\n",
    "\n",
    "cv2.imshow('real', img)\n",
    "cv2.imshow('edge', img_edge)\n",
    "cv2.imshow('dilate', img_edge_d)\n",
    "cv2.imshow('erode', img_edge_e)\n",
    "cv2.waitKey(0)"
   ]
  }
 ],
 "metadata": {
  "kernelspec": {
   "display_name": "det2torch2",
   "language": "python",
   "name": "python3"
  },
  "language_info": {
   "codemirror_mode": {
    "name": "ipython",
    "version": 3
   },
   "file_extension": ".py",
   "mimetype": "text/x-python",
   "name": "python",
   "nbconvert_exporter": "python",
   "pygments_lexer": "ipython3",
   "version": "3.11.0"
  }
 },
 "nbformat": 4,
 "nbformat_minor": 2
}
