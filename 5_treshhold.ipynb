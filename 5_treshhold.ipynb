{
 "cells": [
  {
   "cell_type": "code",
   "execution_count": 2,
   "metadata": {},
   "outputs": [
    {
     "data": {
      "text/plain": [
       "-1"
      ]
     },
     "execution_count": 2,
     "metadata": {},
     "output_type": "execute_result"
    }
   ],
   "source": [
    "\n",
    "import cv2\n",
    "import os\n",
    "\n",
    "data= cv2.imread(os.path.join('.', 'data', 'sadcat.jpg'))\n",
    "\n",
    "img=cv2.cvtColor(data, cv2.COLOR_BGR2GRAY)\n",
    "\n",
    "ret,img_bin=cv2.threshold(img, 80,255, cv2.THRESH_BINARY)\n",
    "\n",
    "img_bin_blur= cv2.blur(img_bin,(10,10))\n",
    "ret, img_blur_bin=cv2.threshold(img_bin_blur, 80,255, cv2.THRESH_BINARY)\n",
    "\n",
    "cv2.imshow('gray', img)\n",
    "cv2.imshow('trehbin', img_bin)\n",
    "cv2.imshow('threshbinblur', img_blur_bin)\n",
    "cv2.waitKey(0)"
   ]
  },
  {
   "cell_type": "code",
   "execution_count": 3,
   "metadata": {},
   "outputs": [
    {
     "data": {
      "text/plain": [
       "-1"
      ]
     },
     "execution_count": 3,
     "metadata": {},
     "output_type": "execute_result"
    }
   ],
   "source": [
    "data_write= os.path.join('.','data','3yrirzigtsp01.jpg')\n",
    "\n",
    "img_write= cv2.resize(cv2.imread(data_write),(440,440))\n",
    "\n",
    "img_wite_gray= cv2.cvtColor(img_write, cv2.COLOR_BGR2GRAY)\n",
    "\n",
    "ret, img_wite_gray_tresh= cv2.threshold(img_wite_gray,20,100, cv2.THRESH_BINARY)\n",
    "\n",
    "cv2.imshow('gray', img_wite_gray)\n",
    "cv2.imshow('tresh', img_wite_gray_tresh)\n",
    "cv2.waitKey(0)"
   ]
  },
  {
   "cell_type": "code",
   "execution_count": 10,
   "metadata": {},
   "outputs": [
    {
     "data": {
      "text/plain": [
       "-1"
      ]
     },
     "execution_count": 10,
     "metadata": {},
     "output_type": "execute_result"
    }
   ],
   "source": [
    "img_write_adptive= cv2.adaptiveThreshold(img_wite_gray, 255,cv2.ADAPTIVE_THRESH_GAUSSIAN_C, cv2.THRESH_BINARY, 21, 30)\n",
    "\n",
    "cv2.imshow('adaptive', img_write_adptive)\n",
    "cv2.waitKey(0)"
   ]
  }
 ],
 "metadata": {
  "kernelspec": {
   "display_name": "det2torch2",
   "language": "python",
   "name": "python3"
  },
  "language_info": {
   "codemirror_mode": {
    "name": "ipython",
    "version": 3
   },
   "file_extension": ".py",
   "mimetype": "text/x-python",
   "name": "python",
   "nbconvert_exporter": "python",
   "pygments_lexer": "ipython3",
   "version": "3.11.0"
  }
 },
 "nbformat": 4,
 "nbformat_minor": 2
}
