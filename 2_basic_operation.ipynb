{
 "cells": [
  {
   "cell_type": "markdown",
   "metadata": {},
   "source": [
    "## Resizing"
   ]
  },
  {
   "cell_type": "code",
   "execution_count": 6,
   "metadata": {},
   "outputs": [
    {
     "name": "stdout",
     "output_type": "stream",
     "text": [
      "real (540, 810, 3)\n",
      "fake (680, 840, 3)\n"
     ]
    }
   ],
   "source": [
    "import os\n",
    "import cv2\n",
    "\n",
    "\n",
    "data= os.path.join('.','data','cats.jpeg')\n",
    "\n",
    "img= cv2.imread(data)\n",
    "img_resize=cv2.resize(img,(840,680))\n",
    "\n",
    "print(f\"real {img.shape}\")\n",
    "print(f\"fake {img_resize.shape}\")\n",
    "\n",
    "\n",
    "cv2.imshow(\"data\", img)\n",
    "cv2.imshow(\"resize\", img_resize)\n",
    "cv2.waitKey(0)\n",
    "cv2.destroyAllWindows()"
   ]
  },
  {
   "cell_type": "markdown",
   "metadata": {},
   "source": [
    "## Croping"
   ]
  },
  {
   "cell_type": "code",
   "execution_count": 8,
   "metadata": {},
   "outputs": [
    {
     "data": {
      "text/plain": [
       "-1"
      ]
     },
     "execution_count": 8,
     "metadata": {},
     "output_type": "execute_result"
    }
   ],
   "source": [
    "import cv2\n",
    "import os\n",
    "\n",
    "img_crop = cv2.imread(os.path.join('.','data', 'fish.jpeg'))\n",
    "\n",
    "img_res=cv2.resize(img_crop,( 840, 680))\n",
    "\n",
    "img_cropping= img_res[220:740, 320:940]\n",
    "\n",
    "def show_coordinates_and_rgb(event, x, y, flags, param):\n",
    "    if event == cv2.EVENT_MOUSEMOVE:  # Jika mouse bergerak\n",
    "        img_with_coords = img_res.copy()  # Salin gambar agar tidak menimpa gambar asli\n",
    "\n",
    "        # Dapatkan nilai RGB di posisi mouse\n",
    "        b, g, r = img_res[y, x]  # Akses nilai BGR pada posisi (x, y)\n",
    "        \n",
    "        # Tampilkan koordinat X, Y dan nilai RGB\n",
    "        text = f\"X: {x} Y: {y} RGB: ({r}, {g}, {b})\"\n",
    "        cv2.putText(img_with_coords, text, (x, y), cv2.FONT_HERSHEY_SIMPLEX, 0.6, (0, 0, 0), 2)\n",
    "        \n",
    "        # Tampilkan gambar dengan overlay teks\n",
    "        cv2.imshow('real', img_with_coords)\n",
    "        cv2.imshow('real', img_with_coords)\n",
    "\n",
    "cv2.imshow('real',img_res)\n",
    "cv2.namedWindow('real')\n",
    "cv2.setMouseCallback('real', show_coordinates_and_rgb)\n",
    "\n",
    "cv2.imshow('fake', img_cropping)\n",
    "cv2.waitKey(0)"
   ]
  }
 ],
 "metadata": {
  "kernelspec": {
   "display_name": "det2torch2",
   "language": "python",
   "name": "python3"
  },
  "language_info": {
   "codemirror_mode": {
    "name": "ipython",
    "version": 3
   },
   "file_extension": ".py",
   "mimetype": "text/x-python",
   "name": "python",
   "nbconvert_exporter": "python",
   "pygments_lexer": "ipython3",
   "version": "3.11.0"
  }
 },
 "nbformat": 4,
 "nbformat_minor": 2
}
